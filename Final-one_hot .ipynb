{
 "cells": [
  {
   "cell_type": "code",
   "execution_count": 1,
   "metadata": {},
   "outputs": [
    {
     "name": "stderr",
     "output_type": "stream",
     "text": [
      "Using TensorFlow backend.\n",
      "/usr/local/lib/python3.5/dist-packages/sklearn/cross_validation.py:41: DeprecationWarning: This module was deprecated in version 0.18 in favor of the model_selection module into which all the refactored classes and functions are moved. Also note that the interface of the new CV iterators are different from that of this module. This module will be removed in 0.20.\n",
      "  \"This module will be removed in 0.20.\", DeprecationWarning)\n"
     ]
    }
   ],
   "source": [
    "import numpy as np\n",
    "from keras.datasets import mnist\n",
    "import pandas as pd # data processing, CSV file I/O (e.g. pd.read_csv)\n",
    "from keras.models import Sequential\n",
    "from keras.layers import Dense\n",
    "from keras.layers import Dropout\n",
    "from keras.layers import Flatten\n",
    "from keras.layers import BatchNormalization\n",
    "from keras.layers.convolutional import Convolution2D\n",
    "from keras.layers.convolutional import MaxPooling2D,AveragePooling2D\n",
    "from keras.regularizers import l2\n",
    "from sklearn.cross_validation import StratifiedKFold\n",
    "from keras.utils import np_utils\n",
    "from keras import backend as K\n",
    "K.set_image_dim_ordering('th')\n",
    "from sklearn.utils import shuffle\n",
    "import keras\n",
    "import csv\n",
    "from sklearn.model_selection import train_test_split\n",
    "import matplotlib.pyplot as plt"
   ]
  },
  {
   "cell_type": "code",
   "execution_count": 2,
   "metadata": {},
   "outputs": [],
   "source": [
    "seed = 7\n",
    "np.random.seed(seed)"
   ]
  },
  {
   "cell_type": "code",
   "execution_count": 3,
   "metadata": {},
   "outputs": [],
   "source": [
    "train = pd.read_csv('./input/train_x.csv',header=None)\n",
    "train_x = train.values"
   ]
  },
  {
   "cell_type": "code",
   "execution_count": 4,
   "metadata": {},
   "outputs": [
    {
     "data": {
      "text/html": [
       "<div>\n",
       "<style scoped>\n",
       "    .dataframe tbody tr th:only-of-type {\n",
       "        vertical-align: middle;\n",
       "    }\n",
       "\n",
       "    .dataframe tbody tr th {\n",
       "        vertical-align: top;\n",
       "    }\n",
       "\n",
       "    .dataframe thead th {\n",
       "        text-align: right;\n",
       "    }\n",
       "</style>\n",
       "<table border=\"1\" class=\"dataframe\">\n",
       "  <thead>\n",
       "    <tr style=\"text-align: right;\">\n",
       "      <th></th>\n",
       "      <th>0</th>\n",
       "      <th>1</th>\n",
       "      <th>2</th>\n",
       "      <th>3</th>\n",
       "      <th>4</th>\n",
       "      <th>5</th>\n",
       "      <th>6</th>\n",
       "      <th>7</th>\n",
       "      <th>8</th>\n",
       "      <th>9</th>\n",
       "      <th>...</th>\n",
       "      <th>4086</th>\n",
       "      <th>4087</th>\n",
       "      <th>4088</th>\n",
       "      <th>4089</th>\n",
       "      <th>4090</th>\n",
       "      <th>4091</th>\n",
       "      <th>4092</th>\n",
       "      <th>4093</th>\n",
       "      <th>4094</th>\n",
       "      <th>4095</th>\n",
       "    </tr>\n",
       "  </thead>\n",
       "  <tbody>\n",
       "    <tr>\n",
       "      <th>29430</th>\n",
       "      <td>24.0</td>\n",
       "      <td>108.0</td>\n",
       "      <td>170.0</td>\n",
       "      <td>178.0</td>\n",
       "      <td>177.0</td>\n",
       "      <td>177.0</td>\n",
       "      <td>174.0</td>\n",
       "      <td>174.0</td>\n",
       "      <td>168.0</td>\n",
       "      <td>159.0</td>\n",
       "      <td>...</td>\n",
       "      <td>178.0</td>\n",
       "      <td>174.0</td>\n",
       "      <td>178.0</td>\n",
       "      <td>173.0</td>\n",
       "      <td>169.0</td>\n",
       "      <td>167.0</td>\n",
       "      <td>161.0</td>\n",
       "      <td>154.0</td>\n",
       "      <td>147.0</td>\n",
       "      <td>138.0</td>\n",
       "    </tr>\n",
       "    <tr>\n",
       "      <th>27750</th>\n",
       "      <td>115.0</td>\n",
       "      <td>121.0</td>\n",
       "      <td>133.0</td>\n",
       "      <td>138.0</td>\n",
       "      <td>147.0</td>\n",
       "      <td>154.0</td>\n",
       "      <td>161.0</td>\n",
       "      <td>168.0</td>\n",
       "      <td>174.0</td>\n",
       "      <td>178.0</td>\n",
       "      <td>...</td>\n",
       "      <td>170.0</td>\n",
       "      <td>177.0</td>\n",
       "      <td>177.0</td>\n",
       "      <td>174.0</td>\n",
       "      <td>44.0</td>\n",
       "      <td>3.0</td>\n",
       "      <td>10.0</td>\n",
       "      <td>16.0</td>\n",
       "      <td>24.0</td>\n",
       "      <td>30.0</td>\n",
       "    </tr>\n",
       "  </tbody>\n",
       "</table>\n",
       "<p>2 rows × 4096 columns</p>\n",
       "</div>"
      ],
      "text/plain": [
       "        0      1      2      3      4      5      6      7      8      9     \\\n",
       "29430   24.0  108.0  170.0  178.0  177.0  177.0  174.0  174.0  168.0  159.0   \n",
       "27750  115.0  121.0  133.0  138.0  147.0  154.0  161.0  168.0  174.0  178.0   \n",
       "\n",
       "       ...     4086   4087   4088   4089   4090   4091   4092   4093   4094  \\\n",
       "29430  ...    178.0  174.0  178.0  173.0  169.0  167.0  161.0  154.0  147.0   \n",
       "27750  ...    170.0  177.0  177.0  174.0   44.0    3.0   10.0   16.0   24.0   \n",
       "\n",
       "        4095  \n",
       "29430  138.0  \n",
       "27750   30.0  \n",
       "\n",
       "[2 rows x 4096 columns]"
      ]
     },
     "execution_count": 4,
     "metadata": {},
     "output_type": "execute_result"
    }
   ],
   "source": [
    "train.sample(2)"
   ]
  },
  {
   "cell_type": "code",
   "execution_count": 5,
   "metadata": {},
   "outputs": [],
   "source": [
    "def normalize1(array):\n",
    "    # Normalize the data\n",
    "    array = array.astype(np.float32) / 255.0 \n",
    "    a = array-array.mean(axis=1,keepdims=True)\n",
    "    a = a / array.std(axis = 1,keepdims = True)\n",
    "    return a\n"
   ]
  },
  {
   "cell_type": "code",
   "execution_count": 6,
   "metadata": {},
   "outputs": [],
   "source": [
    "def normalize2(array):\n",
    "    # Normalize the data\n",
    "    array = array.astype(np.float32) / 255.0 \n",
    "    return array"
   ]
  },
  {
   "cell_type": "code",
   "execution_count": 7,
   "metadata": {},
   "outputs": [],
   "source": [
    "train_x = normalize2(train_x)"
   ]
  },
  {
   "cell_type": "code",
   "execution_count": 8,
   "metadata": {},
   "outputs": [],
   "source": [
    "train_x = train_x.reshape(train_x.shape[0],1,64,64)"
   ]
  },
  {
   "cell_type": "code",
   "execution_count": 9,
   "metadata": {},
   "outputs": [],
   "source": [
    "def encode(array):\n",
    "    classes = [0, 1, 2, 3, 4, 5, 6, 7, 8, 9, 10,\n",
    "               11, 12, 13, 14, 15, 16, 17, 18, 20,\n",
    "               21, 24, 25, 27, 28, 30, 32, 35, 36,\n",
    "               40, 42, 45, 48, 49, 54, 56, 63, 64, 72, 81]\n",
    "    n_elem = 40\n",
    "    one_hot = []\n",
    "    for elem in array:\n",
    "        #print (elem)\n",
    "        one_hot_example = np.zeros(n_elem)\n",
    "        one_hot_example[classes.index(elem)] = 1\n",
    "        one_hot.append(one_hot_example.astype(int))\n",
    "    return np.array(one_hot)"
   ]
  },
  {
   "cell_type": "code",
   "execution_count": 10,
   "metadata": {},
   "outputs": [],
   "source": [
    "result = pd.read_csv('./input/train_y.csv',header=None)\n",
    "\n",
    "#train_y = encode(result.values.ravel())\n",
    "train_y = np_utils.to_categorical(result.values.ravel())"
   ]
  },
  {
   "cell_type": "code",
   "execution_count": 11,
   "metadata": {},
   "outputs": [
    {
     "name": "stdout",
     "output_type": "stream",
     "text": [
      "(47500, 1, 64, 64)\n",
      "(2500, 1, 64, 64)\n"
     ]
    }
   ],
   "source": [
    "train_xs, test_xs, train_ys, test_ys= train_test_split(train_x, train_y, test_size=0.05)\n",
    "print(train_xs.shape)\n",
    "print(test_xs.shape)"
   ]
  },
  {
   "cell_type": "code",
   "execution_count": 12,
   "metadata": {},
   "outputs": [
    {
     "name": "stdout",
     "output_type": "stream",
     "text": [
      "Number of classes: 40\n"
     ]
    }
   ],
   "source": [
    "num_classes = train_y.shape[1]\n",
    "print ('Number of classes: {0}'.format(num_classes))"
   ]
  },
  {
   "cell_type": "code",
   "execution_count": 13,
   "metadata": {},
   "outputs": [],
   "source": [
    "def larger_model():\n",
    "    model = Sequential()\n",
    "    model.add(Convolution2D(64, 7, 7, border_mode='valid', input_shape=(1, 64, 64), activation='relu'))\n",
    "    model.add(Convolution2D(64, 7, 7, activation='relu'))    \n",
    "    model.add(MaxPooling2D(pool_size=(2, 2)))\n",
    "    model.add(Convolution2D(64, 5, 5, activation='relu'))\n",
    "    model.add(Convolution2D(64, 5, 5, activation='relu'))\n",
    "    model.add(MaxPooling2D(pool_size=(2, 2)))\n",
    "    model.add(Convolution2D(64, 3, 3, activation='relu'))\n",
    "    model.add(Convolution2D(64, 3, 3, activation='relu'))\n",
    "    model.add(MaxPooling2D(pool_size=(2, 2)))\n",
    "    model.add(Dropout(0.25))\n",
    "    model.add(Flatten())\n",
    "    model.add(Dense(256, activation='relu'))\n",
    "    model.add(Dense(128, activation='relu'))\n",
    "    model.add(Dense(num_classes, activation='softmax'))\n",
    "    \n",
    "    model.compile(loss='categorical_crossentropy', optimizer='adam', metrics=['accuracy'])\n",
    "    return model"
   ]
  },
  {
   "cell_type": "code",
   "execution_count": 14,
   "metadata": {},
   "outputs": [],
   "source": [
    "def larger_model2():\n",
    "    # create model\n",
    "    model = Sequential()\n",
    "    model.add(Convolution2D(64, 7, 7, border_mode='valid', input_shape=(1, 64, 64), activation='relu'))\n",
    "    model.add(Convolution2D(64, 7, 7, activation='relu'))    \n",
    "    model.add(MaxPooling2D(pool_size=(2, 2)))\n",
    "    model.add(Convolution2D(64, 5, 5, activation='relu'))\n",
    "    model.add(Convolution2D(64, 5, 5, activation='relu'))\n",
    "    model.add(MaxPooling2D(pool_size=(2, 2)))\n",
    "    model.add(Convolution2D(64, 3, 3, activation='relu'))\n",
    "    model.add(Convolution2D(64, 3, 3, activation='relu'))\n",
    "    model.add(MaxPooling2D(pool_size=(2, 2)))\n",
    "    model.add(Dropout(0.25))\n",
    "    model.add(Flatten())\n",
    "    model.add(BatchNormalization(epsilon=1e-05,momentum=0.99,weights=None,beta_init='zero',gamma_init='one',gamma_regularizer=None,beta_regularizer=None))\n",
    "    model.add(Dense(512, activation='relu'))\n",
    "    model.add(Dense(256, activation='relu'))\n",
    "    model.add(Dropout(0.25))\n",
    "    model.add(Dense(128, activation='relu'))\n",
    "    model.add(Dropout(0.5))\n",
    "    model.add(Dense(num_classes, activation='softmax'))\n",
    "    \n",
    "    model.compile(loss='categorical_crossentropy', optimizer='adam', metrics=['accuracy'])\n",
    "    return model"
   ]
  },
  {
   "cell_type": "code",
   "execution_count": 15,
   "metadata": {},
   "outputs": [],
   "source": [
    "def larger_model3():\n",
    "    # create model\n",
    "    model = Sequential()\n",
    "    model.add(Convolution2D(64, 7, 7, border_mode='valid', input_shape=(1, 64, 64), activation='relu'))\n",
    "    model.add(Convolution2D(64, 7, 7, activation='relu'))    \n",
    "    model.add(MaxPooling2D(pool_size=(2, 2)))\n",
    "    model.add(Convolution2D(64, 3, 3, activation='relu'))\n",
    "    model.add(Convolution2D(64, 3, 3, activation='relu'))\n",
    "    model.add(AveragePooling2D(pool_size=(2, 2)))\n",
    "    model.add(Convolution2D(64, 3, 3, activation='relu'))\n",
    "    model.add(Convolution2D(64, 3, 3, activation='relu'))\n",
    "    \n",
    "    model.add(MaxPooling2D(pool_size=(2, 2)))\n",
    "    model.add(Dropout(0.25))\n",
    "    model.add(Flatten())\n",
    "    model.add(BatchNormalization(epsilon=1e-05,momentum=0.99,weights=None,beta_init='zero',gamma_init='one',gamma_regularizer=None,beta_regularizer=None))\n",
    "    model.add(Dense(512, activation='relu'))\n",
    "    model.add(Dense(256, activation='relu'))\n",
    "    model.add(Dense(128, activation='relu'))\n",
    "    model.add(Dropout(0.5))\n",
    "    model.add(Dense(num_classes, activation='softmax'))\n",
    "    \n",
    "    model.compile(loss='categorical_crossentropy', optimizer='adam', metrics=['accuracy'])\n",
    "    return model"
   ]
  },
  {
   "cell_type": "code",
   "execution_count": 16,
   "metadata": {},
   "outputs": [],
   "source": [
    "def larger_model4():\n",
    "    # create model\n",
    "    model = Sequential()\n",
    "    model.add(Convolution2D(64, 7, 7, border_mode='valid', input_shape=(1, 64, 64), activation='relu'))\n",
    "    model.add(Convolution2D(64, 7, 7, activation='relu'))    \n",
    "    model.add(MaxPooling2D(pool_size=(2, 2)))\n",
    "    model.add(Convolution2D(64, 3, 3, activation='relu'))\n",
    "    model.add(Convolution2D(64, 3, 3, activation='relu'))\n",
    "    model.add(AveragePooling2D(pool_size=(2, 2)))\n",
    "    model.add(Convolution2D(64, 3, 3, activation='relu'))\n",
    "    model.add(Convolution2D(64, 3, 3, activation='relu'))\n",
    "    \n",
    "    model.add(MaxPooling2D(pool_size=(2, 2)))\n",
    "    model.add(Dropout(0.25))\n",
    "    model.add(Flatten())\n",
    "    model.add(BatchNormalization(epsilon=1e-05,momentum=0.99,weights=None,beta_init='zero',gamma_init='one',gamma_regularizer=None,beta_regularizer=None))\n",
    "    model.add(Dense(800, activation='relu'))\n",
    "    model.add(Dense(512, activation='relu'))\n",
    "    model.add(Dense(300, activation='relu'))\n",
    "    #model.add(Dense(200, activation='relu'))\n",
    "    model.add(Dense(128, activation='relu'))\n",
    "    model.add(Dropout(0.5))\n",
    "    model.add(Dense(num_classes, activation='softmax'))\n",
    "    \n",
    "    model.compile(loss='categorical_crossentropy', optimizer='adam', metrics=['accuracy'])\n",
    "    return model"
   ]
  },
  {
   "cell_type": "code",
   "execution_count": 17,
   "metadata": {},
   "outputs": [
    {
     "name": "stderr",
     "output_type": "stream",
     "text": [
      "/usr/local/lib/python3.5/dist-packages/ipykernel_launcher.py:4: UserWarning: Update your `Conv2D` call to the Keras 2 API: `Conv2D(64, (7, 7), activation=\"relu\", input_shape=(1, 64, 64..., padding=\"valid\")`\n",
      "  after removing the cwd from sys.path.\n",
      "/usr/local/lib/python3.5/dist-packages/ipykernel_launcher.py:5: UserWarning: Update your `Conv2D` call to the Keras 2 API: `Conv2D(64, (7, 7), activation=\"relu\")`\n",
      "  \"\"\"\n",
      "/usr/local/lib/python3.5/dist-packages/ipykernel_launcher.py:7: UserWarning: Update your `Conv2D` call to the Keras 2 API: `Conv2D(64, (3, 3), activation=\"relu\")`\n",
      "  import sys\n",
      "/usr/local/lib/python3.5/dist-packages/ipykernel_launcher.py:8: UserWarning: Update your `Conv2D` call to the Keras 2 API: `Conv2D(64, (3, 3), activation=\"relu\")`\n",
      "  \n",
      "/usr/local/lib/python3.5/dist-packages/ipykernel_launcher.py:10: UserWarning: Update your `Conv2D` call to the Keras 2 API: `Conv2D(64, (3, 3), activation=\"relu\")`\n",
      "  # Remove the CWD from sys.path while we load stuff.\n",
      "/usr/local/lib/python3.5/dist-packages/ipykernel_launcher.py:11: UserWarning: Update your `Conv2D` call to the Keras 2 API: `Conv2D(64, (3, 3), activation=\"relu\")`\n",
      "  # This is added back by InteractiveShellApp.init_path()\n",
      "/usr/local/lib/python3.5/dist-packages/ipykernel_launcher.py:16: UserWarning: Update your `BatchNormalization` call to the Keras 2 API: `BatchNormalization(gamma_regularizer=None, epsilon=1e-05, beta_regularizer=None, weights=None, gamma_initializer=\"one\", beta_initializer=\"zero\", momentum=0.99)`\n",
      "  app.launch_new_instance()\n",
      "/usr/local/lib/python3.5/dist-packages/keras/models.py:874: UserWarning: The `nb_epoch` argument in `fit` has been renamed `epochs`.\n",
      "  warnings.warn('The `nb_epoch` argument in `fit` '\n"
     ]
    },
    {
     "name": "stdout",
     "output_type": "stream",
     "text": [
      "Train on 47500 samples, validate on 2500 samples\n",
      "Epoch 1/200\n",
      "47500/47500 [==============================] - 73s 2ms/step - loss: 3.4574 - acc: 0.1054 - val_loss: 3.3816 - val_acc: 0.1156\n",
      "Epoch 2/200\n",
      "47500/47500 [==============================] - 48s 1ms/step - loss: 3.4105 - acc: 0.1125 - val_loss: 3.7519 - val_acc: 0.1156\n",
      "Epoch 3/200\n",
      "47500/47500 [==============================] - 48s 1ms/step - loss: 3.3521 - acc: 0.1207 - val_loss: 3.4745 - val_acc: 0.0600\n",
      "Epoch 4/200\n",
      "47500/47500 [==============================] - 48s 1ms/step - loss: 3.2433 - acc: 0.1458 - val_loss: 3.2019 - val_acc: 0.1492\n",
      "Epoch 5/200\n",
      "47500/47500 [==============================] - 48s 1ms/step - loss: 3.1121 - acc: 0.1560 - val_loss: 3.0079 - val_acc: 0.1660\n",
      "Epoch 6/200\n",
      "47500/47500 [==============================] - 48s 1ms/step - loss: 2.9525 - acc: 0.1716 - val_loss: 2.9059 - val_acc: 0.1796\n",
      "Epoch 7/200\n",
      "47500/47500 [==============================] - 48s 1ms/step - loss: 2.7474 - acc: 0.1904 - val_loss: 2.6555 - val_acc: 0.2044 2.7656 - acc: 0.18 - ETA: 6s - loss: 2. - ETA: 2s - loss: 2.7562 \n",
      "Epoch 8/200\n",
      "47500/47500 [==============================] - 48s 1ms/step - loss: 2.4756 - acc: 0.2270 - val_loss: 2.2634 - val_acc: 0.2692\n",
      "Epoch 9/200\n",
      "47500/47500 [==============================] - 48s 1ms/step - loss: 2.2298 - acc: 0.2754 - val_loss: 1.9707 - val_acc: 0.3324\n",
      "Epoch 10/200\n",
      "47500/47500 [==============================] - 48s 1ms/step - loss: 2.0140 - acc: 0.3278 - val_loss: 1.8251 - val_acc: 0.3616\n",
      "Epoch 11/200\n",
      "47500/47500 [==============================] - 48s 1ms/step - loss: 1.8381 - acc: 0.3732 - val_loss: 1.7187 - val_acc: 0.4012\n",
      "Epoch 12/200\n",
      "47500/47500 [==============================] - 48s 1ms/step - loss: 1.6895 - acc: 0.4163 - val_loss: 1.4906 - val_acc: 0.4704\n",
      "Epoch 13/200\n",
      "47500/47500 [==============================] - 48s 1ms/step - loss: 1.5275 - acc: 0.4632 - val_loss: 1.4266 - val_acc: 0.4984: 2s - loss: 1.5307\n",
      "Epoch 14/200\n",
      "47500/47500 [==============================] - 48s 1ms/step - loss: 1.4099 - acc: 0.5043 - val_loss: 1.1984 - val_acc: 0.5760\n",
      "Epoch 15/200\n",
      "47500/47500 [==============================] - 48s 1ms/step - loss: 1.2872 - acc: 0.5525 - val_loss: 1.1558 - val_acc: 0.6236\n",
      "Epoch 16/200\n",
      "47500/47500 [==============================] - 48s 1ms/step - loss: 1.1684 - acc: 0.6081 - val_loss: 1.1043 - val_acc: 0.6680\n",
      "Epoch 17/200\n",
      "47500/47500 [==============================] - 48s 1ms/step - loss: 1.0514 - acc: 0.6618 - val_loss: 0.9341 - val_acc: 0.7316: 1.0493 - ac - ETA: 3s - loss: 1.0503 - acc: - ETA: 2s - loss: 1.0492 - acc - ETA: 0s - loss: 1.0495 - acc: 0\n",
      "Epoch 18/200\n",
      "47500/47500 [==============================] - 48s 1ms/step - loss: 0.9443 - acc: 0.7099 - val_loss: 0.8705 - val_acc: 0.7616: 3s - loss: 0.94\n",
      "Epoch 19/200\n",
      "47500/47500 [==============================] - 48s 1ms/step - loss: 0.8531 - acc: 0.7467 - val_loss: 0.7720 - val_acc: 0.7884 - loss: 0.8578 - acc: - ETA: 9s - lo - ETA: 4s - loss: 0.8585 - acc: 0.744 - ETA: 4s - lo\n",
      "Epoch 20/200\n",
      "47500/47500 [==============================] - 48s 1ms/step - loss: 0.7460 - acc: 0.7845 - val_loss: 0.7077 - val_acc: 0.8148s - loss: 0.7459 - ETA: 0s - loss: 0.7462 - acc: 0.78\n",
      "Epoch 21/200\n",
      "47500/47500 [==============================] - 48s 1ms/step - loss: 0.6714 - acc: 0.8097 - val_loss: 0.6616 - val_acc: 0.8260\n",
      "Epoch 22/200\n",
      "47500/47500 [==============================] - 48s 1ms/step - loss: 0.6046 - acc: 0.8308 - val_loss: 0.6453 - val_acc: 0.8396\n",
      "Epoch 23/200\n",
      "47500/47500 [==============================] - 48s 1ms/step - loss: 0.5502 - acc: 0.8468 - val_loss: 0.5642 - val_acc: 0.8680\n",
      "Epoch 24/200\n",
      "47500/47500 [==============================] - 48s 1ms/step - loss: 0.5121 - acc: 0.8596 - val_loss: 0.5930 - val_acc: 0.8632\n",
      "Epoch 25/200\n",
      "47500/47500 [==============================] - 48s 1ms/step - loss: 0.4774 - acc: 0.8725 - val_loss: 0.5160 - val_acc: 0.8704\n",
      "Epoch 26/200\n",
      "47500/47500 [==============================] - 48s 1ms/step - loss: 0.4262 - acc: 0.8857 - val_loss: 0.6460 - val_acc: 0.8460cc: 0.\n",
      "Epoch 27/200\n",
      "47500/47500 [==============================] - 48s 1ms/step - loss: 0.4145 - acc: 0.8895 - val_loss: 0.5518 - val_acc: 0.8656\n",
      "Epoch 28/200\n",
      "47500/47500 [==============================] - 48s 1ms/step - loss: 0.3905 - acc: 0.8968 - val_loss: 0.5127 - val_acc: 0.8776\n",
      "Epoch 29/200\n",
      "47500/47500 [==============================] - 48s 1ms/step - loss: 0.3550 - acc: 0.9059 - val_loss: 0.5655 - val_acc: 0.8756\n",
      "Epoch 30/200\n",
      "47500/47500 [==============================] - 48s 1ms/step - loss: 0.3515 - acc: 0.9081 - val_loss: 0.5047 - val_acc: 0.8836\n",
      "Epoch 31/200\n",
      "47500/47500 [==============================] - 48s 1ms/step - loss: 0.3274 - acc: 0.9140 - val_loss: 0.5122 - val_acc: 0.8896\n",
      "Epoch 32/200\n",
      "47500/47500 [==============================] - 48s 1ms/step - loss: 0.3226 - acc: 0.9148 - val_loss: 0.4704 - val_acc: 0.8956\n",
      "Epoch 33/200\n",
      "47500/47500 [==============================] - 48s 1ms/step - loss: 0.2939 - acc: 0.9234 - val_loss: 0.5434 - val_acc: 0.8768\n",
      "Epoch 34/200\n",
      "47500/47500 [==============================] - 48s 1ms/step - loss: 0.2969 - acc: 0.9220 - val_loss: 0.4905 - val_acc: 0.8980\n",
      "Epoch 35/200\n",
      "47500/47500 [==============================] - 48s 1ms/step - loss: 0.2809 - acc: 0.9261 - val_loss: 0.4873 - val_acc: 0.8976\n",
      "Epoch 36/200\n",
      "47500/47500 [==============================] - 48s 1ms/step - loss: 0.2582 - acc: 0.9318 - val_loss: 0.5332 - val_acc: 0.8936\n",
      "Epoch 37/200\n",
      "47500/47500 [==============================] - 48s 1ms/step - loss: 0.2522 - acc: 0.9327 - val_loss: 0.5233 - val_acc: 0.8928\n",
      "Epoch 38/200\n",
      "47500/47500 [==============================] - 48s 1ms/step - loss: 0.2434 - acc: 0.9355 - val_loss: 0.5111 - val_acc: 0.9000\n",
      "Epoch 39/200\n",
      "47500/47500 [==============================] - 48s 1ms/step - loss: 0.2313 - acc: 0.9394 - val_loss: 0.5768 - val_acc: 0.8908\n",
      "Epoch 40/200\n",
      "47500/47500 [==============================] - 48s 1ms/step - loss: 0.2258 - acc: 0.9397 - val_loss: 0.5624 - val_acc: 0.8912\n",
      "Epoch 41/200\n",
      "47500/47500 [==============================] - 48s 1ms/step - loss: 0.2297 - acc: 0.9392 - val_loss: 0.4577 - val_acc: 0.9068\n",
      "Epoch 42/200\n",
      "47500/47500 [==============================] - 48s 1ms/step - loss: 0.2282 - acc: 0.9397 - val_loss: 0.5104 - val_acc: 0.9028\n",
      "Epoch 43/200\n",
      "47500/47500 [==============================] - 48s 1ms/step - loss: 0.2159 - acc: 0.9427 - val_loss: 0.4745 - val_acc: 0.9016\n",
      "Epoch 44/200\n",
      "47500/47500 [==============================] - 48s 1ms/step - loss: 0.2073 - acc: 0.9457 - val_loss: 0.4922 - val_acc: 0.9104\n",
      "Epoch 45/200\n",
      "47500/47500 [==============================] - 48s 1ms/step - loss: 0.1981 - acc: 0.9478 - val_loss: 0.5285 - val_acc: 0.8980\n",
      "Epoch 46/200\n",
      "47500/47500 [==============================] - 48s 1ms/step - loss: 0.2029 - acc: 0.9468 - val_loss: 0.5675 - val_acc: 0.8964\n",
      "Epoch 47/200\n",
      "47500/47500 [==============================] - 48s 1ms/step - loss: 0.2038 - acc: 0.9467 - val_loss: 0.5271 - val_acc: 0.9064\n",
      "Epoch 48/200\n",
      "47500/47500 [==============================] - 48s 1ms/step - loss: 0.1791 - acc: 0.9526 - val_loss: 0.4705 - val_acc: 0.9024\n",
      "Epoch 49/200\n",
      "47500/47500 [==============================] - 48s 1ms/step - loss: 0.1860 - acc: 0.9508 - val_loss: 0.5600 - val_acc: 0.8980\n",
      "Epoch 50/200\n",
      "47500/47500 [==============================] - 48s 1ms/step - loss: 0.1817 - acc: 0.9516 - val_loss: 0.5156 - val_acc: 0.9052\n",
      "Epoch 51/200\n",
      "47500/47500 [==============================] - 48s 1ms/step - loss: 0.1676 - acc: 0.9562 - val_loss: 0.6270 - val_acc: 0.8984\n",
      "Epoch 52/200\n",
      "47500/47500 [==============================] - 48s 1ms/step - loss: 0.1693 - acc: 0.9567 - val_loss: 0.6040 - val_acc: 0.8980\n",
      "Epoch 53/200\n",
      "47500/47500 [==============================] - 48s 1ms/step - loss: 0.1730 - acc: 0.9549 - val_loss: 0.4806 - val_acc: 0.9052\n",
      "Epoch 54/200\n",
      "47500/47500 [==============================] - 48s 1ms/step - loss: 0.1510 - acc: 0.9605 - val_loss: 0.5240 - val_acc: 0.9032\n",
      "Epoch 55/200\n",
      "47500/47500 [==============================] - 48s 1ms/step - loss: 0.1590 - acc: 0.9570 - val_loss: 0.5767 - val_acc: 0.9032\n",
      "Epoch 56/200\n",
      "47500/47500 [==============================] - 48s 1ms/step - loss: 0.1572 - acc: 0.9592 - val_loss: 0.5330 - val_acc: 0.9032\n",
      "Epoch 57/200\n"
     ]
    },
    {
     "name": "stdout",
     "output_type": "stream",
     "text": [
      "47500/47500 [==============================] - 48s 1ms/step - loss: 0.1475 - acc: 0.9615 - val_loss: 0.5894 - val_acc: 0.8992\n",
      "Epoch 58/200\n",
      "47500/47500 [==============================] - 48s 1ms/step - loss: 0.1558 - acc: 0.9589 - val_loss: 0.5522 - val_acc: 0.9104\n",
      "Epoch 59/200\n",
      "47500/47500 [==============================] - 48s 1ms/step - loss: 0.1554 - acc: 0.9605 - val_loss: 0.5718 - val_acc: 0.9020\n",
      "Epoch 60/200\n",
      "47500/47500 [==============================] - 48s 1ms/step - loss: 0.1456 - acc: 0.9620 - val_loss: 0.5909 - val_acc: 0.9092\n",
      "Epoch 61/200\n",
      "47500/47500 [==============================] - 48s 1ms/step - loss: 0.1440 - acc: 0.9623 - val_loss: 0.5540 - val_acc: 0.9128\n",
      "Epoch 62/200\n",
      "47500/47500 [==============================] - 48s 1ms/step - loss: 0.1539 - acc: 0.9606 - val_loss: 0.5453 - val_acc: 0.9032\n",
      "Epoch 63/200\n",
      "47500/47500 [==============================] - 48s 1ms/step - loss: 0.1390 - acc: 0.9636 - val_loss: 0.4978 - val_acc: 0.9156\n",
      "Epoch 64/200\n",
      "47500/47500 [==============================] - 48s 1ms/step - loss: 0.1351 - acc: 0.9649 - val_loss: 0.5144 - val_acc: 0.9072 13s - loss - ETA: 11s - loss: 0.1318 - acc: 0.96 - ETA: 11s \n",
      "Epoch 65/200\n",
      "47500/47500 [==============================] - 48s 1ms/step - loss: 0.1294 - acc: 0.9652 - val_loss: 0.5103 - val_acc: 0.9084\n",
      "Epoch 66/200\n",
      "47500/47500 [==============================] - 48s 1ms/step - loss: 0.1270 - acc: 0.9665 - val_loss: 0.5516 - val_acc: 0.8936\n",
      "Epoch 67/200\n",
      "47500/47500 [==============================] - 48s 1ms/step - loss: 0.1416 - acc: 0.9634 - val_loss: 0.5477 - val_acc: 0.9164\n",
      "Epoch 68/200\n",
      "47500/47500 [==============================] - 48s 1ms/step - loss: 0.1395 - acc: 0.9644 - val_loss: 0.5725 - val_acc: 0.9032\n",
      "Epoch 69/200\n",
      "47500/47500 [==============================] - 48s 1ms/step - loss: 0.1289 - acc: 0.9678 - val_loss: 0.5603 - val_acc: 0.9148\n",
      "Epoch 70/200\n",
      "47500/47500 [==============================] - 48s 1ms/step - loss: 0.1184 - acc: 0.9686 - val_loss: 0.5148 - val_acc: 0.9120\n",
      "Epoch 71/200\n",
      "47500/47500 [==============================] - 48s 1ms/step - loss: 0.1123 - acc: 0.9697 - val_loss: 0.5843 - val_acc: 0.9060\n",
      "Epoch 72/200\n",
      "47500/47500 [==============================] - 48s 1ms/step - loss: 0.1433 - acc: 0.9637 - val_loss: 0.5335 - val_acc: 0.9004\n",
      "Epoch 73/200\n",
      "47500/47500 [==============================] - 48s 1ms/step - loss: 0.1285 - acc: 0.9673 - val_loss: 0.5561 - val_acc: 0.9120- ETA: 4s - loss: - ETA: 0s - loss: 0.1275 - acc: 0.967 - ETA: 0s - loss: 0.1282 - acc: 0.9\n",
      "Epoch 74/200\n",
      "47500/47500 [==============================] - 48s 1ms/step - loss: 0.1077 - acc: 0.9727 - val_loss: 0.5225 - val_acc: 0.9156\n",
      "Epoch 75/200\n",
      "47500/47500 [==============================] - 48s 1ms/step - loss: 0.1295 - acc: 0.9667 - val_loss: 0.5700 - val_acc: 0.9040\n",
      "Epoch 76/200\n",
      "47500/47500 [==============================] - 48s 1ms/step - loss: 0.1239 - acc: 0.9683 - val_loss: 0.5714 - val_acc: 0.9056\n",
      "Epoch 77/200\n",
      "47500/47500 [==============================] - 48s 1ms/step - loss: 0.1095 - acc: 0.9721 - val_loss: 0.5494 - val_acc: 0.9168\n",
      "Epoch 78/200\n",
      "47500/47500 [==============================] - 48s 1ms/step - loss: 0.1191 - acc: 0.9692 - val_loss: 0.5796 - val_acc: 0.9096s - loss: 0.1163 - acc: 0.969 - ETA: 4s - loss: 0.1166 - acc: 0.969 - ETA: 4s - loss:\n",
      "Epoch 79/200\n",
      "47500/47500 [==============================] - 48s 1ms/step - loss: 0.1153 - acc: 0.9697 - val_loss: 0.5132 - val_acc: 0.91041128 - acc:  - ETA:\n",
      "Epoch 80/200\n",
      "47500/47500 [==============================] - 48s 1ms/step - loss: 0.1233 - acc: 0.9678 - val_loss: 0.6138 - val_acc: 0.9076\n",
      "Epoch 81/200\n",
      "47500/47500 [==============================] - 48s 1ms/step - loss: 0.1130 - acc: 0.9711 - val_loss: 0.5377 - val_acc: 0.9096\n",
      "Epoch 82/200\n",
      "47500/47500 [==============================] - 48s 1ms/step - loss: 0.1008 - acc: 0.9734 - val_loss: 0.5102 - val_acc: 0.9116\n",
      "Epoch 83/200\n",
      "47500/47500 [==============================] - 48s 1ms/step - loss: 0.1087 - acc: 0.9709 - val_loss: 0.5368 - val_acc: 0.9120.\n",
      "Epoch 84/200\n",
      "47500/47500 [==============================] - 48s 1ms/step - loss: 0.0973 - acc: 0.9748 - val_loss: 0.5256 - val_acc: 0.9168\n",
      "Epoch 85/200\n",
      "47500/47500 [==============================] - 48s 1ms/step - loss: 0.1031 - acc: 0.9741 - val_loss: 0.5469 - val_acc: 0.9072\n",
      "Epoch 86/200\n",
      "47500/47500 [==============================] - 48s 1ms/step - loss: 0.0989 - acc: 0.9749 - val_loss: 0.5915 - val_acc: 0.9088.9 - ETA: 2s - loss: 0.0993 - acc: 0. - ETA: 1s - loss: 0.1001 - acc: 0.97 - ETA: 1s - loss: 0.1000 - acc\n",
      "Epoch 87/200\n",
      "47500/47500 [==============================] - 48s 1ms/step - loss: 0.0872 - acc: 0.9773 - val_loss: 0.5384 - val_acc: 0.9196A - ETA: 26s - loss: 0. - ETA: 24s - loss:  - ETA:  - ETA: 19s - loss: 0. - ETA: 17s - loss: 0.0872 - - ETA: 12s - lo - ETA: 10s - loss: 0.0 - ETA: 6s - loss: 0.0893 - acc: 0.976 - ET\n",
      "Epoch 88/200\n",
      "47500/47500 [==============================] - 48s 1ms/step - loss: 0.0970 - acc: 0.9756 - val_loss: 0.5392 - val_acc: 0.9136\n",
      "Epoch 89/200\n",
      "47500/47500 [==============================] - 48s 1ms/step - loss: 0.0916 - acc: 0.9763 - val_loss: 0.5579 - val_acc: 0.9136\n",
      "Epoch 90/200\n",
      "47500/47500 [==============================] - 48s 1ms/step - loss: 0.1040 - acc: 0.9740 - val_loss: 0.4925 - val_acc: 0.9172\n",
      "Epoch 91/200\n",
      "47500/47500 [==============================] - 48s 1ms/step - loss: 0.1076 - acc: 0.9727 - val_loss: 0.6315 - val_acc: 0.9088\n",
      "Epoch 92/200\n",
      "47500/47500 [==============================] - 48s 1ms/step - loss: 0.1100 - acc: 0.9718 - val_loss: 0.5869 - val_acc: 0.91160.1079  - ETA: 0s - loss: 0.1092 - acc: 0\n",
      "Epoch 93/200\n",
      "47500/47500 [==============================] - 48s 1ms/step - loss: 0.1064 - acc: 0.9735 - val_loss: 0.5256 - val_acc: 0.9124.1059 -  - ETA:\n",
      "Epoch 94/200\n",
      "47500/47500 [==============================] - 48s 1ms/step - loss: 0.0885 - acc: 0.9764 - val_loss: 0.5399 - val_acc: 0.9160\n",
      "Epoch 95/200\n",
      "47500/47500 [==============================] - 48s 1ms/step - loss: 0.0913 - acc: 0.9766 - val_loss: 0.5661 - val_acc: 0.9188.0923 - acc - ETA: 5s\n",
      "Epoch 96/200\n",
      "47500/47500 [==============================] - 48s 1ms/step - loss: 0.0826 - acc: 0.9787 - val_loss: 0.5899 - val_acc: 0.9096\n",
      "Epoch 97/200\n",
      "47500/47500 [==============================] - 48s 1ms/step - loss: 0.0965 - acc: 0.9751 - val_loss: 0.5203 - val_acc: 0.9148 0.97 - ETA: 12s - lo - ETA: 10 - ETA: 4s - loss: - ETA: 0s - loss: 0.0966 - acc: 0.9\n",
      "Epoch 98/200\n",
      "47500/47500 [==============================] - 48s 1ms/step - loss: 0.1000 - acc: 0.9741 - val_loss: 0.5651 - val_acc: 0.9192\n",
      "Epoch 99/200\n",
      "47500/47500 [==============================] - 48s 1ms/step - loss: 0.0906 - acc: 0.9776 - val_loss: 0.5720 - val_acc: 0.9140\n",
      "Epoch 100/200\n",
      "47500/47500 [==============================] - 48s 1ms/step - loss: 0.1007 - acc: 0.9756 - val_loss: 0.6699 - val_acc: 0.8992\n",
      "Epoch 101/200\n",
      "47500/47500 [==============================] - 48s 1ms/step - loss: 0.0872 - acc: 0.9779 - val_loss: 0.5610 - val_acc: 0.9148A: 10s - loss: 0.0898 \n",
      "Epoch 102/200\n",
      "47500/47500 [==============================] - 48s 1ms/step - loss: 0.0881 - acc: 0.9782 - val_loss: 0.5360 - val_acc: 0.9224\n",
      "Epoch 103/200\n",
      "47500/47500 [==============================] - 48s 1ms/step - loss: 0.0818 - acc: 0.9786 - val_loss: 0.5873 - val_acc: 0.9140ETA: 1s - loss: 0.0817 - acc\n",
      "Epoch 104/200\n",
      "47500/47500 [==============================] - 48s 1ms/step - loss: 0.0888 - acc: 0.9783 - val_loss: 0.5856 - val_acc: 0.9152\n",
      "Epoch 105/200\n",
      "47500/47500 [==============================] - 48s 1ms/step - loss: 0.0875 - acc: 0.9777 - val_loss: 0.5691 - val_acc: 0.9184\n",
      "Epoch 106/200\n",
      "47500/47500 [==============================] - 48s 1ms/step - loss: 0.0803 - acc: 0.9804 - val_loss: 0.6564 - val_acc: 0.9104s: 0.0804 - acc: 0\n",
      "Epoch 107/200\n",
      "47500/47500 [==============================] - 48s 1ms/step - loss: 0.0949 - acc: 0.9770 - val_loss: 0.6070 - val_acc: 0.9136\n",
      "Epoch 108/200\n",
      "47500/47500 [==============================] - 48s 1ms/step - loss: 0.0890 - acc: 0.9779 - val_loss: 0.6221 - val_acc: 0.9132- loss: 0.0881 - acc: \n",
      "Epoch 109/200\n",
      "47500/47500 [==============================] - 48s 1ms/step - loss: 0.0902 - acc: 0.9769 - val_loss: 0.6363 - val_acc: 0.9072\n",
      "Epoch 110/200\n",
      "47500/47500 [==============================] - 48s 1ms/step - loss: 0.0868 - acc: 0.9783 - val_loss: 0.5752 - val_acc: 0.9172.978 - ETA: 8s - loss: 0.0861  - ETA: 5s\n",
      "Epoch 111/200\n",
      "47500/47500 [==============================] - 48s 1ms/step - loss: 0.0902 - acc: 0.9772 - val_loss: 0.4969 - val_acc: 0.9180\n",
      "Epoch 112/200\n",
      "47500/47500 [==============================] - 48s 1ms/step - loss: 0.0803 - acc: 0.9792 - val_loss: 0.5840 - val_acc: 0.9192\n",
      "Epoch 113/200\n",
      "47500/47500 [==============================] - 48s 1ms/step - loss: 0.0854 - acc: 0.9788 - val_loss: 0.7831 - val_acc: 0.8884\n",
      "Epoch 114/200\n",
      "47500/47500 [==============================] - 48s 1ms/step - loss: 0.1044 - acc: 0.9737 - val_loss: 0.5311 - val_acc: 0.9180\n",
      "Epoch 115/200\n",
      "47500/47500 [==============================] - 48s 1ms/step - loss: 0.0804 - acc: 0.9797 - val_loss: 0.5240 - val_acc: 0.9164\n",
      "Epoch 116/200\n",
      "47500/47500 [==============================] - 48s 1ms/step - loss: 0.0732 - acc: 0.9813 - val_loss: 0.5780 - val_acc: 0.9136\n",
      "Epoch 117/200\n",
      "47500/47500 [==============================] - 48s 1ms/step - loss: 0.0736 - acc: 0.9817 - val_loss: 0.5493 - val_acc: 0.9232\n",
      "Epoch 118/200\n",
      "47500/47500 [==============================] - 48s 1ms/step - loss: 0.0667 - acc: 0.9833 - val_loss: 0.5749 - val_acc: 0.9200\n",
      "Epoch 119/200\n",
      "47500/47500 [==============================] - 48s 1ms/step - loss: 0.0696 - acc: 0.9821 - val_loss: 0.6300 - val_acc: 0.9144: 4s - loss:\n",
      "Epoch 120/200\n",
      "47500/47500 [==============================] - 48s 1ms/step - loss: 0.0817 - acc: 0.9794 - val_loss: 0.5829 - val_acc: 0.9156\n",
      "Epoch 121/200\n",
      "47500/47500 [==============================] - 48s 1ms/step - loss: 0.0691 - acc: 0.9823 - val_loss: 0.6188 - val_acc: 0.9184\n",
      "Epoch 122/200\n",
      "47500/47500 [==============================] - 48s 1ms/step - loss: 0.0840 - acc: 0.9792 - val_loss: 0.5780 - val_acc: 0.9224\n",
      "Epoch 123/200\n",
      "47500/47500 [==============================] - 48s 1ms/step - loss: 0.0691 - acc: 0.9827 - val_loss: 0.5116 - val_acc: 0.9244\n",
      "Epoch 124/200\n",
      "47500/47500 [==============================] - 48s 1ms/step - loss: 0.0685 - acc: 0.9829 - val_loss: 0.5856 - val_acc: 0.9204\n",
      "Epoch 125/200\n",
      "47500/47500 [==============================] - 48s 1ms/step - loss: 0.0684 - acc: 0.9823 - val_loss: 0.6207 - val_acc: 0.9156\n",
      "Epoch 126/200\n",
      "47500/47500 [==============================] - 48s 1ms/step - loss: 0.0761 - acc: 0.9814 - val_loss: 0.5484 - val_acc: 0.9172s: \n",
      "Epoch 127/200\n",
      "47500/47500 [==============================] - 48s 1ms/step - loss: 0.0772 - acc: 0.9800 - val_loss: 0.6459 - val_acc: 0.9128.0 - ETA: 1s - loss: 0.0767 - acc: \n",
      "Epoch 128/200\n",
      "47500/47500 [==============================] - 48s 1ms/step - loss: 0.0752 - acc: 0.9816 - val_loss: 0.5707 - val_acc: 0.9116\n",
      "Epoch 129/200\n",
      "47500/47500 [==============================] - 48s 1ms/step - loss: 0.0713 - acc: 0.9835 - val_loss: 0.6392 - val_acc: 0.9128\n",
      "Epoch 130/200\n",
      "47500/47500 [==============================] - 48s 1ms/step - loss: 0.0713 - acc: 0.9824 - val_loss: 0.6620 - val_acc: 0.91680738 - acc: 0.982 - ETA: 8s - loss - ETA: 4s - los\n",
      "Epoch 131/200\n",
      "47500/47500 [==============================] - 48s 1ms/step - loss: 0.0735 - acc: 0.9812 - val_loss: 0.5349 - val_acc: 0.9228\n",
      "Epoch 132/200\n",
      "47500/47500 [==============================] - 48s 1ms/step - loss: 0.0618 - acc: 0.9850 - val_loss: 0.6005 - val_acc: 0.9096\n",
      "Epoch 133/200\n",
      "47500/47500 [==============================] - 48s 1ms/step - loss: 0.0799 - acc: 0.9804 - val_loss: 0.6295 - val_acc: 0.9068\n",
      "Epoch 134/200\n",
      "47500/47500 [==============================] - 48s 1ms/step - loss: 0.0844 - acc: 0.9794 - val_loss: 0.5584 - val_acc: 0.9188\n",
      "Epoch 135/200\n",
      "47500/47500 [==============================] - 48s 1ms/step - loss: 0.0605 - acc: 0.9848 - val_loss: 0.5677 - val_acc: 0.9200\n",
      "Epoch 136/200\n",
      "47500/47500 [==============================] - 48s 1ms/step - loss: 0.0749 - acc: 0.9815 - val_loss: 0.5805 - val_acc: 0.9248 - ETA: 0s - loss: 0.0746 - acc: 0\n",
      "Epoch 137/200\n",
      "47500/47500 [==============================] - 48s 1ms/step - loss: 0.0705 - acc: 0.9832 - val_loss: 0.6052 - val_acc: 0.9216\n",
      "Epoch 138/200\n",
      "47500/47500 [==============================] - 48s 1ms/step - loss: 0.0699 - acc: 0.9831 - val_loss: 0.5171 - val_acc: 0.9212A: 5s - loss: 0 - ETA: 2s - loss: 0.0702 - \n",
      "Epoch 139/200\n",
      "47500/47500 [==============================] - 48s 1ms/step - loss: 0.0640 - acc: 0.9842 - val_loss: 0.5662 - val_acc: 0.9208\n",
      "Epoch 140/200\n",
      "47500/47500 [==============================] - 48s 1ms/step - loss: 0.0680 - acc: 0.9836 - val_loss: 0.5601 - val_acc: 0.9176\n",
      "Epoch 141/200\n",
      "47500/47500 [==============================] - 48s 1ms/step - loss: 0.0781 - acc: 0.9798 - val_loss: 0.5438 - val_acc: 0.9184\n",
      "Epoch 142/200\n",
      "47500/47500 [==============================] - 48s 1ms/step - loss: 0.0637 - acc: 0.9840 - val_loss: 0.5827 - val_acc: 0.9176\n",
      "Epoch 143/200\n",
      "47500/47500 [==============================] - 48s 1ms/step - loss: 0.0633 - acc: 0.9841 - val_loss: 0.5308 - val_acc: 0.9164\n",
      "Epoch 144/200\n",
      "47500/47500 [==============================] - 48s 1ms/step - loss: 0.0743 - acc: 0.9815 - val_loss: 0.6192 - val_acc: 0.9188\n",
      "Epoch 145/200\n",
      "47500/47500 [==============================] - 48s 1ms/step - loss: 0.0591 - acc: 0.9857 - val_loss: 0.6103 - val_acc: 0.9172\n",
      "Epoch 146/200\n",
      "47500/47500 [==============================] - 48s 1ms/step - loss: 0.0787 - acc: 0.9815 - val_loss: 0.5195 - val_acc: 0.9252\n",
      "Epoch 147/200\n",
      "47500/47500 [==============================] - 48s 1ms/step - loss: 0.0602 - acc: 0.9851 - val_loss: 0.5683 - val_acc: 0.9192\n",
      "Epoch 148/200\n",
      "47500/47500 [==============================] - 48s 1ms/step - loss: 0.0679 - acc: 0.9829 - val_loss: 0.6079 - val_acc: 0.9180\n",
      "Epoch 149/200\n",
      "47500/47500 [==============================] - 48s 1ms/step - loss: 0.0749 - acc: 0.9811 - val_loss: 0.5184 - val_acc: 0.9264\n",
      "Epoch 150/200\n",
      "47500/47500 [==============================] - 48s 1ms/step - loss: 0.0693 - acc: 0.9825 - val_loss: 0.5685 - val_acc: 0.9220- acc: 0.9 - ETA: 8s - loss: - ETA: 4s - loss\n",
      "Epoch 151/200\n",
      "47500/47500 [==============================] - 48s 1ms/step - loss: 0.0603 - acc: 0.9850 - val_loss: 0.5580 - val_acc: 0.9236\n",
      "Epoch 152/200\n",
      "47500/47500 [==============================] - 48s 1ms/step - loss: 0.0648 - acc: 0.9849 - val_loss: 0.5602 - val_acc: 0.9304\n",
      "Epoch 153/200\n",
      "47500/47500 [==============================] - 48s 1ms/step - loss: 0.0639 - acc: 0.9846 - val_loss: 0.5247 - val_acc: 0.9260\n",
      "Epoch 154/200\n",
      "47500/47500 [==============================] - 48s 1ms/step - loss: 0.0583 - acc: 0.9852 - val_loss: 0.6021 - val_acc: 0.9160\n",
      "Epoch 155/200\n",
      "47500/47500 [==============================] - 48s 1ms/step - loss: 0.0486 - acc: 0.9876 - val_loss: 0.6455 - val_acc: 0.9244\n",
      "Epoch 156/200\n",
      "47500/47500 [==============================] - 48s 1ms/step - loss: 0.0610 - acc: 0.9846 - val_loss: 0.5726 - val_acc: 0.9216\n",
      "Epoch 157/200\n",
      "47500/47500 [==============================] - 48s 1ms/step - loss: 0.0594 - acc: 0.9849 - val_loss: 0.5029 - val_acc: 0.9276\n",
      "Epoch 158/200\n",
      "47500/47500 [==============================] - 48s 1ms/step - loss: 0.0660 - acc: 0.9837 - val_loss: 0.5498 - val_acc: 0.9188\n",
      "Epoch 159/200\n",
      "47500/47500 [==============================] - 48s 1ms/step - loss: 0.0676 - acc: 0.9831 - val_loss: 0.6478 - val_acc: 0.91329\n",
      "Epoch 160/200\n",
      "47500/47500 [==============================] - 48s 1ms/step - loss: 0.0616 - acc: 0.9853 - val_loss: 0.6955 - val_acc: 0.9160\n",
      "Epoch 161/200\n",
      "47500/47500 [==============================] - 48s 1ms/step - loss: 0.0632 - acc: 0.9844 - val_loss: 0.5896 - val_acc: 0.9252: 0.\n",
      "Epoch 162/200\n",
      "47500/47500 [==============================] - 48s 1ms/step - loss: 0.0821 - acc: 0.9808 - val_loss: 0.5365 - val_acc: 0.9232\n",
      "Epoch 163/200\n",
      "47500/47500 [==============================] - 48s 1ms/step - loss: 0.0743 - acc: 0.9827 - val_loss: 0.6521 - val_acc: 0.9160oss: 0.0728 \n",
      "Epoch 164/200\n",
      "47500/47500 [==============================] - 48s 1ms/step - loss: 0.0714 - acc: 0.9824 - val_loss: 0.5848 - val_acc: 0.9212\n",
      "Epoch 165/200\n",
      "47500/47500 [==============================] - 48s 1ms/step - loss: 0.0526 - acc: 0.9873 - val_loss: 0.5630 - val_acc: 0.9228\n",
      "Epoch 166/200\n"
     ]
    },
    {
     "name": "stdout",
     "output_type": "stream",
     "text": [
      "47500/47500 [==============================] - 48s 1ms/step - loss: 0.0571 - acc: 0.9859 - val_loss: 0.5379 - val_acc: 0.9280\n",
      "Epoch 167/200\n",
      "47500/47500 [==============================] - 48s 1ms/step - loss: 0.0699 - acc: 0.9829 - val_loss: 0.5806 - val_acc: 0.9196\n",
      "Epoch 168/200\n",
      "47500/47500 [==============================] - 48s 1ms/step - loss: 0.0858 - acc: 0.9801 - val_loss: 0.6406 - val_acc: 0.9164\n",
      "Epoch 169/200\n",
      "47500/47500 [==============================] - 48s 1ms/step - loss: 0.0573 - acc: 0.9853 - val_loss: 0.5804 - val_acc: 0.9248: 9s - loss: 0.0590 - acc: 0.985 - ETA: 9s - loss: 0.0588 - acc: 0.985 - ETA: 9s - loss: 0.0591 - acc:\n",
      "Epoch 170/200\n",
      "47500/47500 [==============================] - 48s 1ms/step - loss: 0.0500 - acc: 0.9872 - val_loss: 0.5488 - val_acc: 0.9240\n",
      "Epoch 171/200\n",
      "47500/47500 [==============================] - 48s 1ms/step - loss: 0.0556 - acc: 0.9867 - val_loss: 0.6312 - val_acc: 0.9196\n",
      "Epoch 172/200\n",
      "47500/47500 [==============================] - 48s 1ms/step - loss: 0.0520 - acc: 0.9872 - val_loss: 0.5853 - val_acc: 0.9188\n",
      "Epoch 173/200\n",
      "47500/47500 [==============================] - 48s 1ms/step - loss: 0.0494 - acc: 0.9876 - val_loss: 0.6865 - val_acc: 0.9092\n",
      "Epoch 174/200\n",
      "47500/47500 [==============================] - 48s 1ms/step - loss: 0.0629 - acc: 0.9842 - val_loss: 0.4872 - val_acc: 0.9340\n",
      "Epoch 175/200\n",
      "47500/47500 [==============================] - 48s 1ms/step - loss: 0.0699 - acc: 0.9832 - val_loss: 0.6072 - val_acc: 0.9180\n",
      "Epoch 176/200\n",
      "47500/47500 [==============================] - 48s 1ms/step - loss: 0.0538 - acc: 0.9871 - val_loss: 0.5969 - val_acc: 0.9172\n",
      "Epoch 177/200\n",
      "47500/47500 [==============================] - 48s 1ms/step - loss: 0.0564 - acc: 0.9868 - val_loss: 0.5902 - val_acc: 0.9224\n",
      "Epoch 178/200\n",
      "47500/47500 [==============================] - 48s 1ms/step - loss: 0.0494 - acc: 0.9879 - val_loss: 0.5922 - val_acc: 0.9240\n",
      "Epoch 179/200\n",
      "47500/47500 [==============================] - 48s 1ms/step - loss: 0.0884 - acc: 0.9797 - val_loss: 0.6339 - val_acc: 0.9172\n",
      "Epoch 180/200\n",
      "47500/47500 [==============================] - 48s 1ms/step - loss: 0.0669 - acc: 0.9839 - val_loss: 0.5395 - val_acc: 0.9228\n",
      "Epoch 181/200\n",
      "47500/47500 [==============================] - 48s 1ms/step - loss: 0.0447 - acc: 0.9884 - val_loss: 0.5257 - val_acc: 0.9256\n",
      "Epoch 182/200\n",
      "47500/47500 [==============================] - 48s 1ms/step - loss: 0.0542 - acc: 0.9869 - val_loss: 0.5458 - val_acc: 0.9256\n",
      "Epoch 183/200\n",
      "47500/47500 [==============================] - 48s 1ms/step - loss: 0.0507 - acc: 0.9873 - val_loss: 0.5753 - val_acc: 0.9252\n",
      "Epoch 184/200\n",
      "47500/47500 [==============================] - 48s 1ms/step - loss: 0.0497 - acc: 0.9884 - val_loss: 0.5570 - val_acc: 0.9208\n",
      "Epoch 185/200\n",
      "47500/47500 [==============================] - 48s 1ms/step - loss: 0.0599 - acc: 0.9857 - val_loss: 0.5992 - val_acc: 0.9228\n",
      "Epoch 186/200\n",
      "47500/47500 [==============================] - 48s 1ms/step - loss: 0.0489 - acc: 0.9883 - val_loss: 0.5826 - val_acc: 0.9220\n",
      "Epoch 187/200\n",
      "47500/47500 [==============================] - 48s 1ms/step - loss: 0.0663 - acc: 0.9847 - val_loss: 0.6127 - val_acc: 0.9224\n",
      "Epoch 188/200\n",
      "47500/47500 [==============================] - 48s 1ms/step - loss: 0.0433 - acc: 0.9893 - val_loss: 0.6631 - val_acc: 0.9164\n",
      "Epoch 189/200\n",
      "47500/47500 [==============================] - 48s 1ms/step - loss: 0.0665 - acc: 0.9844 - val_loss: 0.5724 - val_acc: 0.9240\n",
      "Epoch 190/200\n",
      "47500/47500 [==============================] - 48s 1ms/step - loss: 0.0604 - acc: 0.9857 - val_loss: 0.5656 - val_acc: 0.9228\n",
      "Epoch 191/200\n",
      "47500/47500 [==============================] - 48s 1ms/step - loss: 0.0532 - acc: 0.9869 - val_loss: 0.6143 - val_acc: 0.9200\n",
      "Epoch 192/200\n",
      "47500/47500 [==============================] - 48s 1ms/step - loss: 0.0435 - acc: 0.9894 - val_loss: 0.5357 - val_acc: 0.92680.0434 - acc: 0\n",
      "Epoch 193/200\n",
      "47500/47500 [==============================] - 48s 1ms/step - loss: 0.0528 - acc: 0.9876 - val_loss: 0.7503 - val_acc: 0.9084\n",
      "Epoch 194/200\n",
      "47500/47500 [==============================] - 48s 1ms/step - loss: 0.0688 - acc: 0.9838 - val_loss: 0.5820 - val_acc: 0.9240A: 3s - loss: 0.0700 - acc: 0.98 - ETA: 2s - loss: 0.0695 - - ETA: 0s - loss: 0.0688 - acc: 0.9\n",
      "Epoch 195/200\n",
      "47500/47500 [==============================] - 48s 1ms/step - loss: 0.0430 - acc: 0.9893 - val_loss: 0.6244 - val_acc: 0.9248\n",
      "Epoch 196/200\n",
      "47500/47500 [==============================] - 48s 1ms/step - loss: 0.0630 - acc: 0.9849 - val_loss: 0.5206 - val_acc: 0.9244\n",
      "Epoch 197/200\n",
      "47500/47500 [==============================] - 48s 1ms/step - loss: 0.0572 - acc: 0.9873 - val_loss: 0.5747 - val_acc: 0.9180\n",
      "Epoch 198/200\n",
      "47500/47500 [==============================] - 48s 1ms/step - loss: 0.0561 - acc: 0.9863 - val_loss: 0.5629 - val_acc: 0.9260\n",
      "Epoch 199/200\n",
      "47500/47500 [==============================] - 48s 1ms/step - loss: 0.0452 - acc: 0.9892 - val_loss: 0.5379 - val_acc: 0.9268\n",
      "Epoch 200/200\n",
      "47500/47500 [==============================] - 48s 1ms/step - loss: 0.0626 - acc: 0.9851 - val_loss: 0.5675 - val_acc: 0.9148 loss: 0.0635 -\n"
     ]
    }
   ],
   "source": [
    "# build the model\n",
    "model = larger_model4()\n",
    "# fit the model\n",
    "# fit the model\n",
    "history = model.fit(train_xs, train_ys, nb_epoch=200, batch_size=200, verbose=1,validation_data=(test_xs, test_ys))\n",
    "#history = model.fit(train_x, train_y, nb_epoch=120, batch_size=200, verbose=1)"
   ]
  },
  {
   "cell_type": "code",
   "execution_count": 18,
   "metadata": {},
   "outputs": [
    {
     "name": "stdout",
     "output_type": "stream",
     "text": [
      "2500/2500 [==============================] - 1s 546us/step\n",
      "Test loss: 0.567544103667\n",
      "Test accuracy: 0.9148\n"
     ]
    }
   ],
   "source": [
    "score = model.evaluate(test_xs, test_ys, verbose=1)\n",
    "print('Test loss:', score[0])\n",
    "print('Test accuracy:', score[1])"
   ]
  },
  {
   "cell_type": "code",
   "execution_count": null,
   "metadata": {},
   "outputs": [],
   "source": [
    "#insert code to print the tensorboard graph\n",
    "from keras.callbacks import TensorBoard\n",
    "tensorboard = TensorBoard(log_dir='./Graph', histogram_freq=0, write_graph=True, write_images=True)"
   ]
  },
  {
   "cell_type": "code",
   "execution_count": 19,
   "metadata": {},
   "outputs": [
    {
     "data": {
      "image/png": "[encoded data removed]",
      "text/plain": [
       "<matplotlib.figure.Figure at 0x7f0a335e7e80>"
      ]
     },
     "metadata": {},
     "output_type": "display_data"
    },
    {
     "data": {
      "image/png": "[encoded data removed]",
      "text/plain": [
       "<matplotlib.figure.Figure at 0x7f0a331f3748>"
      ]
     },
     "metadata": {},
     "output_type": "display_data"
    }
   ],
   "source": [
    "# summarize history for accuracy\n",
    "plt.plot(history.history['acc'])\n",
    "plt.plot(history.history['val_acc'])\n",
    "plt.title('model accuracy', fontsize=20)\n",
    "plt.ylabel('accuracy', fontsize=20)\n",
    "plt.xlabel('epoch', fontsize=20)\n",
    "plt.legend(['train', 'test'], loc='upper left')\n",
    "plt.show()\n",
    "# summarize history for loss\n",
    "plt.plot(history.history['loss'])\n",
    "plt.plot(history.history['val_loss'])\n",
    "plt.title('model loss', fontsize=20)\n",
    "plt.ylabel('loss', fontsize=20)\n",
    "plt.xlabel('epoch', fontsize=20)\n",
    "plt.legend(['train', 'test'], loc='upper left')\n",
    "plt.show()"
   ]
  },
  {
   "cell_type": "code",
   "execution_count": 20,
   "metadata": {},
   "outputs": [
    {
     "name": "stdout",
     "output_type": "stream",
     "text": [
      "Saved model to disk\n"
     ]
    }
   ],
   "source": [
    "#saving the trained model\n",
    "# serialize model to JSON\n",
    "model_json = model.to_json()\n",
    "slnum=23\n",
    "with open(\"model{0}.json\".format(slnum), \"w\") as json_file:\n",
    "    json_file.write(model_json)\n",
    "# serialize weights to HDF5\n",
    "model.save_weights(\"model{0}.h5\".format(slnum))\n",
    "print(\"Saved model to disk\")"
   ]
  },
  {
   "cell_type": "code",
   "execution_count": 21,
   "metadata": {},
   "outputs": [
    {
     "data": {
      "text/plain": [
       "(10000, 1, 64, 64)"
      ]
     },
     "execution_count": 21,
     "metadata": {},
     "output_type": "execute_result"
    }
   ],
   "source": [
    "test = pd.read_csv('./input/test_x.csv',header=None)\n",
    "test_x = normalize2(test.values)\n",
    "test_x = test_x.reshape(test_x.shape[0],1,64,64)\n",
    "\n",
    "test_x.shape"
   ]
  },
  {
   "cell_type": "code",
   "execution_count": 22,
   "metadata": {
    "scrolled": true
   },
   "outputs": [
    {
     "name": "stdout",
     "output_type": "stream",
     "text": [
      "10000/10000 [==============================] - 4s 364us/step\n",
      "10000/10000 [==============================] - 4s 357us/step\n"
     ]
    }
   ],
   "source": [
    "# predict on the test dadaset\n",
    "classes = model.predict_classes(test_x, batch_size=200)\n",
    "proba = model.predict_proba(test_x, batch_size=200)\n",
    "\n",
    "# save the classes and probability for each prediction in the test dataset\n",
    "#np.savetxt(\"./output/classes_sample_kaggle_{0}.csv\".format(slnum),classes, delimiter =\",\")\n",
    "#np.savetxt(\"./output/probabilities_model_{0}.csv\".format(slnum),proba, delimiter =\",\")"
   ]
  },
  {
   "cell_type": "code",
   "execution_count": 25,
   "metadata": {},
   "outputs": [
    {
     "data": {
      "text/plain": [
       "array([19, 14, 12, ...,  0, 12,  4])"
      ]
     },
     "execution_count": 25,
     "metadata": {},
     "output_type": "execute_result"
    }
   ],
   "source": [
    "classes"
   ]
  },
  {
   "cell_type": "code",
   "execution_count": 31,
   "metadata": {},
   "outputs": [],
   "source": [
    "def decode(array):\n",
    "    classes = [0, 1, 2, 3, 4, 5, 6, 7, 8, 9, 10,\n",
    "               11, 12, 13, 14, 15, 16, 17, 18, 20,\n",
    "               21, 24, 25, 27, 28, 30, 32, 35, 36,\n",
    "               40, 42, 45, 48, 49, 54, 56, 63, 64, 72, 81]\n",
    "    n_elem = 40\n",
    "    decoded = np.zeros(array.shape[0])\n",
    "    for i,elem in enumerate(array):\n",
    "        #print (elem)\n",
    "        decoded[i] = classes[elem]\n",
    "    return decoded"
   ]
  },
  {
   "cell_type": "code",
   "execution_count": 33,
   "metadata": {},
   "outputs": [],
   "source": [
    "classes = decode(classes)"
   ]
  },
  {
   "cell_type": "code",
   "execution_count": 34,
   "metadata": {},
   "outputs": [
    {
     "data": {
      "text/plain": [
       "array([ 20.,  14.,  12., ...,   0.,  12.,   4.])"
      ]
     },
     "execution_count": 34,
     "metadata": {},
     "output_type": "execute_result"
    }
   ],
   "source": [
    "classes"
   ]
  },
  {
   "cell_type": "code",
   "execution_count": 35,
   "metadata": {},
   "outputs": [],
   "source": [
    "writer = open('./output/Final_{0}.csv'.format(slnum), 'w')\n",
    "writer.write('Id,Label\\n')\n",
    "for i,row in enumerate(classes):\n",
    "    writer.write(str(i+1)+\",\"+str(row)+\"\\n\")\n",
    "writer.close()\n"
   ]
  },
  {
   "cell_type": "code",
   "execution_count": 55,
   "metadata": {},
   "outputs": [],
   "source": [
    "def change_simple(array):\n",
    "    idx = []\n",
    "    for i in array:\n",
    "        idx.append(np.where(i==1)[0][0])\n",
    "    return np.array(idx)"
   ]
  },
  {
   "cell_type": "code",
   "execution_count": 56,
   "metadata": {},
   "outputs": [],
   "source": [
    "from sklearn.metrics import classification_report\n",
    "from sklearn.metrics import confusion_matrix\n",
    "import matplotlib\n",
    "import matplotlib.pyplot as plt\n",
    "import matplotlib.cm as cm"
   ]
  },
  {
   "cell_type": "code",
   "execution_count": 57,
   "metadata": {},
   "outputs": [
    {
     "data": {
      "text/plain": [
       "array([ 10.,  45.,  16., ...,  18.,  35.,  10.])"
      ]
     },
     "execution_count": 57,
     "metadata": {},
     "output_type": "execute_result"
    }
   ],
   "source": [
    "decode(change_simple(test_ys))"
   ]
  },
  {
   "cell_type": "code",
   "execution_count": 66,
   "metadata": {},
   "outputs": [
    {
     "name": "stdout",
     "output_type": "stream",
     "text": [
      "2500/2500 [==============================] - 1s 474us/step\n"
     ]
    },
    {
     "data": {
      "image/png": "[encoded data removed]",
      "text/plain": [
       "<matplotlib.figure.Figure at 0x7f0a31a8c1d0>"
      ]
     },
     "metadata": {},
     "output_type": "display_data"
    }
   ],
   "source": [
    "cm = confusion_matrix(decode(change_simple(test_ys)), decode(model.predict_classes(test_xs)))\n",
    "plt.matshow(cm)\n",
    "plt.title('Confusion matrix', fontsize=20,y=1.08)\n",
    "plt.colorbar()\n",
    "plt.ylabel('True label', fontsize=20)\n",
    "plt.xlabel('Predicted label', fontsize=20)\n",
    "plt.savefig(\"cMatrix_{0}.png\".format(slnum), dpi=300)\n",
    "plt.show()"
   ]
  },
  {
   "cell_type": "code",
   "execution_count": 44,
   "metadata": {},
   "outputs": [
    {
     "name": "stdout",
     "output_type": "stream",
     "text": [
      "2500/2500 [==============================] - 1s 399us/step\n"
     ]
    }
   ],
   "source": [
    "a=encode(decode(model.predict_classes(test_xs)))"
   ]
  },
  {
   "cell_type": "code",
   "execution_count": 46,
   "metadata": {},
   "outputs": [
    {
     "data": {
      "text/plain": [
       "(2500, 40)"
      ]
     },
     "execution_count": 46,
     "metadata": {},
     "output_type": "execute_result"
    }
   ],
   "source": [
    "a.shape"
   ]
  },
  {
   "cell_type": "code",
   "execution_count": 47,
   "metadata": {},
   "outputs": [
    {
     "data": {
      "text/plain": [
       "(2500, 40)"
      ]
     },
     "execution_count": 47,
     "metadata": {},
     "output_type": "execute_result"
    }
   ],
   "source": [
    "test_ys.shape"
   ]
  },
  {
   "cell_type": "code",
   "execution_count": 63,
   "metadata": {},
   "outputs": [
    {
     "data": {
      "text/plain": [
       "array([[276,   2,   1, ...,   0,   0,   0],\n",
       "       [  0,  39,   1, ...,   0,   0,   0],\n",
       "       [  0,   4,  60, ...,   0,   0,   0],\n",
       "       ..., \n",
       "       [  0,   0,   0, ...,  19,   0,   0],\n",
       "       [  0,   0,   0, ...,   1,  21,   1],\n",
       "       [  0,   0,   0, ...,   0,   0,  14]])"
      ]
     },
     "execution_count": 63,
     "metadata": {},
     "output_type": "execute_result"
    }
   ],
   "source": [
    "cm"
   ]
  }
 ],
 "metadata": {
  "kernelspec": {
   "display_name": "Python 3",
   "language": "python",
   "name": "python3"
  },
  "language_info": {
   "codemirror_mode": {
    "name": "ipython",
    "version": 3
   },
   "file_extension": ".py",
   "mimetype": "text/x-python",
   "name": "python",
   "nbconvert_exporter": "python",
   "pygments_lexer": "ipython3",
   "version": "3.5.2"
  }
 },
 "nbformat": 4,
 "nbformat_minor": 2
}
